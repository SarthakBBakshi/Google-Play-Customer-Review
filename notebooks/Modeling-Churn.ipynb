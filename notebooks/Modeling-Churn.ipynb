{
 "cells": [
  {
   "cell_type": "code",
   "execution_count": 36,
   "id": "7db157a6-0581-4353-957b-c06c9b3828fc",
   "metadata": {},
   "outputs": [
    {
     "name": "stdout",
     "output_type": "stream",
     "text": [
      "The autoreload extension is already loaded. To reload it, use:\n",
      "  %reload_ext autoreload\n"
     ]
    }
   ],
   "source": [
    "import sys \n",
    "import os\n",
    "import warnings\n",
    "warnings.filterwarnings('ignore')\n",
    "%load_ext autoreload\n",
    "sys.path.insert(0, '../../Telcom-Customer-Churn-Prediction')\n",
    "from src.config import TRAINING_FILE,MODELS,MODEL_TRAINING_FILE\n",
    "from src.utility import get_spark\n",
    "\n",
    "from pyspark.ml import Pipeline\n",
    "from pyspark.ml.feature import  StringIndexer, VectorAssembler\n",
    "from pyspark.ml.evaluation import BinaryClassificationEvaluator\n",
    "from pyspark.ml.tuning import ParamGridBuilder, CrossValidator\n",
    "from pyspark.sql.functions import col, lit,when\n",
    "from pyspark.mllib.evaluation import BinaryClassificationMetrics\n",
    "from pyspark.ml.classification import LogisticRegression, RandomForestClassifier, GBTClassifier, NaiveBayes"
   ]
  },
  {
   "cell_type": "code",
   "execution_count": 37,
   "id": "0b2bb14a-1fb7-4926-839b-3322e25ada18",
   "metadata": {},
   "outputs": [
    {
     "name": "stderr",
     "output_type": "stream",
     "text": [
      "                                                                                \r"
     ]
    },
    {
     "data": {
      "text/html": [
       "<div>\n",
       "<style scoped>\n",
       "    .dataframe tbody tr th:only-of-type {\n",
       "        vertical-align: middle;\n",
       "    }\n",
       "\n",
       "    .dataframe tbody tr th {\n",
       "        vertical-align: top;\n",
       "    }\n",
       "\n",
       "    .dataframe thead th {\n",
       "        text-align: right;\n",
       "    }\n",
       "</style>\n",
       "<table border=\"1\" class=\"dataframe\">\n",
       "  <thead>\n",
       "    <tr style=\"text-align: right;\">\n",
       "      <th></th>\n",
       "      <th>customerID</th>\n",
       "      <th>gender</th>\n",
       "      <th>SeniorCitizen</th>\n",
       "      <th>Partner</th>\n",
       "      <th>Dependents</th>\n",
       "      <th>tenure</th>\n",
       "      <th>PhoneService</th>\n",
       "      <th>MultipleLines</th>\n",
       "      <th>InternetService</th>\n",
       "      <th>OnlineSecurity</th>\n",
       "      <th>...</th>\n",
       "      <th>DeviceProtection</th>\n",
       "      <th>TechSupport</th>\n",
       "      <th>StreamingTV</th>\n",
       "      <th>StreamingMovies</th>\n",
       "      <th>Contract</th>\n",
       "      <th>PaperlessBilling</th>\n",
       "      <th>PaymentMethod</th>\n",
       "      <th>MonthlyCharges</th>\n",
       "      <th>TotalCharges</th>\n",
       "      <th>Churn</th>\n",
       "    </tr>\n",
       "  </thead>\n",
       "  <tbody>\n",
       "    <tr>\n",
       "      <th>0</th>\n",
       "      <td>7590-VHVEG</td>\n",
       "      <td>Female</td>\n",
       "      <td>0</td>\n",
       "      <td>Yes</td>\n",
       "      <td>No</td>\n",
       "      <td>1</td>\n",
       "      <td>No</td>\n",
       "      <td>No phone service</td>\n",
       "      <td>DSL</td>\n",
       "      <td>No</td>\n",
       "      <td>...</td>\n",
       "      <td>No</td>\n",
       "      <td>No</td>\n",
       "      <td>No</td>\n",
       "      <td>No</td>\n",
       "      <td>Month-to-month</td>\n",
       "      <td>Yes</td>\n",
       "      <td>Electronic check</td>\n",
       "      <td>29.85</td>\n",
       "      <td>29.85</td>\n",
       "      <td>No</td>\n",
       "    </tr>\n",
       "    <tr>\n",
       "      <th>1</th>\n",
       "      <td>5575-GNVDE</td>\n",
       "      <td>Male</td>\n",
       "      <td>0</td>\n",
       "      <td>No</td>\n",
       "      <td>No</td>\n",
       "      <td>34</td>\n",
       "      <td>Yes</td>\n",
       "      <td>No</td>\n",
       "      <td>DSL</td>\n",
       "      <td>Yes</td>\n",
       "      <td>...</td>\n",
       "      <td>Yes</td>\n",
       "      <td>No</td>\n",
       "      <td>No</td>\n",
       "      <td>No</td>\n",
       "      <td>One year</td>\n",
       "      <td>No</td>\n",
       "      <td>Mailed check</td>\n",
       "      <td>56.95</td>\n",
       "      <td>1889.5</td>\n",
       "      <td>No</td>\n",
       "    </tr>\n",
       "    <tr>\n",
       "      <th>2</th>\n",
       "      <td>3668-QPYBK</td>\n",
       "      <td>Male</td>\n",
       "      <td>0</td>\n",
       "      <td>No</td>\n",
       "      <td>No</td>\n",
       "      <td>2</td>\n",
       "      <td>Yes</td>\n",
       "      <td>No</td>\n",
       "      <td>DSL</td>\n",
       "      <td>Yes</td>\n",
       "      <td>...</td>\n",
       "      <td>No</td>\n",
       "      <td>No</td>\n",
       "      <td>No</td>\n",
       "      <td>No</td>\n",
       "      <td>Month-to-month</td>\n",
       "      <td>Yes</td>\n",
       "      <td>Mailed check</td>\n",
       "      <td>53.85</td>\n",
       "      <td>108.15</td>\n",
       "      <td>Yes</td>\n",
       "    </tr>\n",
       "    <tr>\n",
       "      <th>3</th>\n",
       "      <td>7795-CFOCW</td>\n",
       "      <td>Male</td>\n",
       "      <td>0</td>\n",
       "      <td>No</td>\n",
       "      <td>No</td>\n",
       "      <td>45</td>\n",
       "      <td>No</td>\n",
       "      <td>No phone service</td>\n",
       "      <td>DSL</td>\n",
       "      <td>Yes</td>\n",
       "      <td>...</td>\n",
       "      <td>Yes</td>\n",
       "      <td>Yes</td>\n",
       "      <td>No</td>\n",
       "      <td>No</td>\n",
       "      <td>One year</td>\n",
       "      <td>No</td>\n",
       "      <td>Bank transfer (automatic)</td>\n",
       "      <td>42.30</td>\n",
       "      <td>1840.75</td>\n",
       "      <td>No</td>\n",
       "    </tr>\n",
       "    <tr>\n",
       "      <th>4</th>\n",
       "      <td>9237-HQITU</td>\n",
       "      <td>Female</td>\n",
       "      <td>0</td>\n",
       "      <td>No</td>\n",
       "      <td>No</td>\n",
       "      <td>2</td>\n",
       "      <td>Yes</td>\n",
       "      <td>No</td>\n",
       "      <td>Fiber optic</td>\n",
       "      <td>No</td>\n",
       "      <td>...</td>\n",
       "      <td>No</td>\n",
       "      <td>No</td>\n",
       "      <td>No</td>\n",
       "      <td>No</td>\n",
       "      <td>Month-to-month</td>\n",
       "      <td>Yes</td>\n",
       "      <td>Electronic check</td>\n",
       "      <td>70.70</td>\n",
       "      <td>151.65</td>\n",
       "      <td>Yes</td>\n",
       "    </tr>\n",
       "    <tr>\n",
       "      <th>...</th>\n",
       "      <td>...</td>\n",
       "      <td>...</td>\n",
       "      <td>...</td>\n",
       "      <td>...</td>\n",
       "      <td>...</td>\n",
       "      <td>...</td>\n",
       "      <td>...</td>\n",
       "      <td>...</td>\n",
       "      <td>...</td>\n",
       "      <td>...</td>\n",
       "      <td>...</td>\n",
       "      <td>...</td>\n",
       "      <td>...</td>\n",
       "      <td>...</td>\n",
       "      <td>...</td>\n",
       "      <td>...</td>\n",
       "      <td>...</td>\n",
       "      <td>...</td>\n",
       "      <td>...</td>\n",
       "      <td>...</td>\n",
       "      <td>...</td>\n",
       "    </tr>\n",
       "    <tr>\n",
       "      <th>7038</th>\n",
       "      <td>6840-RESVB</td>\n",
       "      <td>Male</td>\n",
       "      <td>0</td>\n",
       "      <td>Yes</td>\n",
       "      <td>Yes</td>\n",
       "      <td>24</td>\n",
       "      <td>Yes</td>\n",
       "      <td>Yes</td>\n",
       "      <td>DSL</td>\n",
       "      <td>Yes</td>\n",
       "      <td>...</td>\n",
       "      <td>Yes</td>\n",
       "      <td>Yes</td>\n",
       "      <td>Yes</td>\n",
       "      <td>Yes</td>\n",
       "      <td>One year</td>\n",
       "      <td>Yes</td>\n",
       "      <td>Mailed check</td>\n",
       "      <td>84.80</td>\n",
       "      <td>1990.5</td>\n",
       "      <td>No</td>\n",
       "    </tr>\n",
       "    <tr>\n",
       "      <th>7039</th>\n",
       "      <td>2234-XADUH</td>\n",
       "      <td>Female</td>\n",
       "      <td>0</td>\n",
       "      <td>Yes</td>\n",
       "      <td>Yes</td>\n",
       "      <td>72</td>\n",
       "      <td>Yes</td>\n",
       "      <td>Yes</td>\n",
       "      <td>Fiber optic</td>\n",
       "      <td>No</td>\n",
       "      <td>...</td>\n",
       "      <td>Yes</td>\n",
       "      <td>No</td>\n",
       "      <td>Yes</td>\n",
       "      <td>Yes</td>\n",
       "      <td>One year</td>\n",
       "      <td>Yes</td>\n",
       "      <td>Credit card (automatic)</td>\n",
       "      <td>103.20</td>\n",
       "      <td>7362.9</td>\n",
       "      <td>No</td>\n",
       "    </tr>\n",
       "    <tr>\n",
       "      <th>7040</th>\n",
       "      <td>4801-JZAZL</td>\n",
       "      <td>Female</td>\n",
       "      <td>0</td>\n",
       "      <td>Yes</td>\n",
       "      <td>Yes</td>\n",
       "      <td>11</td>\n",
       "      <td>No</td>\n",
       "      <td>No phone service</td>\n",
       "      <td>DSL</td>\n",
       "      <td>Yes</td>\n",
       "      <td>...</td>\n",
       "      <td>No</td>\n",
       "      <td>No</td>\n",
       "      <td>No</td>\n",
       "      <td>No</td>\n",
       "      <td>Month-to-month</td>\n",
       "      <td>Yes</td>\n",
       "      <td>Electronic check</td>\n",
       "      <td>29.60</td>\n",
       "      <td>346.45</td>\n",
       "      <td>No</td>\n",
       "    </tr>\n",
       "    <tr>\n",
       "      <th>7041</th>\n",
       "      <td>8361-LTMKD</td>\n",
       "      <td>Male</td>\n",
       "      <td>1</td>\n",
       "      <td>Yes</td>\n",
       "      <td>No</td>\n",
       "      <td>4</td>\n",
       "      <td>Yes</td>\n",
       "      <td>Yes</td>\n",
       "      <td>Fiber optic</td>\n",
       "      <td>No</td>\n",
       "      <td>...</td>\n",
       "      <td>No</td>\n",
       "      <td>No</td>\n",
       "      <td>No</td>\n",
       "      <td>No</td>\n",
       "      <td>Month-to-month</td>\n",
       "      <td>Yes</td>\n",
       "      <td>Mailed check</td>\n",
       "      <td>74.40</td>\n",
       "      <td>306.6</td>\n",
       "      <td>Yes</td>\n",
       "    </tr>\n",
       "    <tr>\n",
       "      <th>7042</th>\n",
       "      <td>3186-AJIEK</td>\n",
       "      <td>Male</td>\n",
       "      <td>0</td>\n",
       "      <td>No</td>\n",
       "      <td>No</td>\n",
       "      <td>66</td>\n",
       "      <td>Yes</td>\n",
       "      <td>No</td>\n",
       "      <td>Fiber optic</td>\n",
       "      <td>Yes</td>\n",
       "      <td>...</td>\n",
       "      <td>Yes</td>\n",
       "      <td>Yes</td>\n",
       "      <td>Yes</td>\n",
       "      <td>Yes</td>\n",
       "      <td>Two year</td>\n",
       "      <td>Yes</td>\n",
       "      <td>Bank transfer (automatic)</td>\n",
       "      <td>105.65</td>\n",
       "      <td>6844.5</td>\n",
       "      <td>No</td>\n",
       "    </tr>\n",
       "  </tbody>\n",
       "</table>\n",
       "<p>7043 rows × 21 columns</p>\n",
       "</div>"
      ],
      "text/plain": [
       "      customerID  gender  SeniorCitizen Partner Dependents  tenure  \\\n",
       "0     7590-VHVEG  Female              0     Yes         No       1   \n",
       "1     5575-GNVDE    Male              0      No         No      34   \n",
       "2     3668-QPYBK    Male              0      No         No       2   \n",
       "3     7795-CFOCW    Male              0      No         No      45   \n",
       "4     9237-HQITU  Female              0      No         No       2   \n",
       "...          ...     ...            ...     ...        ...     ...   \n",
       "7038  6840-RESVB    Male              0     Yes        Yes      24   \n",
       "7039  2234-XADUH  Female              0     Yes        Yes      72   \n",
       "7040  4801-JZAZL  Female              0     Yes        Yes      11   \n",
       "7041  8361-LTMKD    Male              1     Yes         No       4   \n",
       "7042  3186-AJIEK    Male              0      No         No      66   \n",
       "\n",
       "     PhoneService     MultipleLines InternetService OnlineSecurity  ...  \\\n",
       "0              No  No phone service             DSL             No  ...   \n",
       "1             Yes                No             DSL            Yes  ...   \n",
       "2             Yes                No             DSL            Yes  ...   \n",
       "3              No  No phone service             DSL            Yes  ...   \n",
       "4             Yes                No     Fiber optic             No  ...   \n",
       "...           ...               ...             ...            ...  ...   \n",
       "7038          Yes               Yes             DSL            Yes  ...   \n",
       "7039          Yes               Yes     Fiber optic             No  ...   \n",
       "7040           No  No phone service             DSL            Yes  ...   \n",
       "7041          Yes               Yes     Fiber optic             No  ...   \n",
       "7042          Yes                No     Fiber optic            Yes  ...   \n",
       "\n",
       "     DeviceProtection TechSupport StreamingTV StreamingMovies        Contract  \\\n",
       "0                  No          No          No              No  Month-to-month   \n",
       "1                 Yes          No          No              No        One year   \n",
       "2                  No          No          No              No  Month-to-month   \n",
       "3                 Yes         Yes          No              No        One year   \n",
       "4                  No          No          No              No  Month-to-month   \n",
       "...               ...         ...         ...             ...             ...   \n",
       "7038              Yes         Yes         Yes             Yes        One year   \n",
       "7039              Yes          No         Yes             Yes        One year   \n",
       "7040               No          No          No              No  Month-to-month   \n",
       "7041               No          No          No              No  Month-to-month   \n",
       "7042              Yes         Yes         Yes             Yes        Two year   \n",
       "\n",
       "     PaperlessBilling              PaymentMethod MonthlyCharges  TotalCharges  \\\n",
       "0                 Yes           Electronic check          29.85         29.85   \n",
       "1                  No               Mailed check          56.95        1889.5   \n",
       "2                 Yes               Mailed check          53.85        108.15   \n",
       "3                  No  Bank transfer (automatic)          42.30       1840.75   \n",
       "4                 Yes           Electronic check          70.70        151.65   \n",
       "...               ...                        ...            ...           ...   \n",
       "7038              Yes               Mailed check          84.80        1990.5   \n",
       "7039              Yes    Credit card (automatic)         103.20        7362.9   \n",
       "7040              Yes           Electronic check          29.60        346.45   \n",
       "7041              Yes               Mailed check          74.40         306.6   \n",
       "7042              Yes  Bank transfer (automatic)         105.65        6844.5   \n",
       "\n",
       "     Churn  \n",
       "0       No  \n",
       "1       No  \n",
       "2      Yes  \n",
       "3       No  \n",
       "4      Yes  \n",
       "...    ...  \n",
       "7038    No  \n",
       "7039    No  \n",
       "7040    No  \n",
       "7041   Yes  \n",
       "7042    No  \n",
       "\n",
       "[7043 rows x 21 columns]"
      ]
     },
     "metadata": {},
     "output_type": "display_data"
    }
   ],
   "source": [
    "infer_schema = \"True\"\n",
    "first_row_is_header = \"True\"\n",
    "delimiter = \",\"\n",
    "file_type = 'csv'\n",
    "# The applied options are for CSV files. For other file types, these will be ignored.\n",
    "df = get_spark().read.format(file_type) \\\n",
    "  .option(\"inferSchema\", infer_schema) \\\n",
    "  .option(\"header\", first_row_is_header) \\\n",
    "  .option(\"sep\", delimiter) \\\n",
    "  .load(TRAINING_FILE)\n",
    "\n",
    "display(df.toPandas())"
   ]
  },
  {
   "cell_type": "code",
   "execution_count": 38,
   "id": "31f18ad1-44c3-4687-b1bf-520a0c3edbc8",
   "metadata": {},
   "outputs": [],
   "source": [
    "stages = []\n",
    "categoricalColumns = ['gender','Partner','Dependents','PhoneService','MultipleLines','InternetService','OnlineSecurity','OnlineBackup','DeviceProtection',\n",
    "                     'TechSupport','StreamingTV','StreamingMovies','Contract','PaperlessBilling','PaymentMethod']\n",
    "for categoricalCol in categoricalColumns:\n",
    "    stringIndexer = StringIndexer(inputCol=categoricalCol, outputCol=categoricalCol + \"Index\")\n",
    "    stages += [stringIndexer]\n",
    "label_stringIdx = StringIndexer(inputCol = 'Churn', outputCol = 'label')\n",
    "stages += [label_stringIdx]"
   ]
  },
  {
   "cell_type": "code",
   "execution_count": 39,
   "id": "401e65c0-3fa7-4d47-8a6a-fd3a5f8177be",
   "metadata": {},
   "outputs": [],
   "source": [
    "numericCols = list(set(df.columns) - set(categoricalColumns) - set(['customerID','Churn','TotalCharges']))"
   ]
  },
  {
   "cell_type": "code",
   "execution_count": 40,
   "id": "02ededef-5d59-40f6-a850-0bf8bff4c957",
   "metadata": {},
   "outputs": [],
   "source": [
    "assemblerInputs = [c + \"Index\" for c in categoricalColumns] + numericCols\n",
    "\n",
    "assembler = VectorAssembler(inputCols=assemblerInputs, outputCol=\"features\")\n",
    "\n",
    "stages += [assembler]\n"
   ]
  },
  {
   "cell_type": "code",
   "execution_count": 41,
   "id": "e2b58f76-1cdb-46cc-bd99-e9bf932eb62e",
   "metadata": {},
   "outputs": [],
   "source": [
    "# Fitting Pipeline\n",
    "  \n",
    "partialPipeline = Pipeline().setStages(stages)\n",
    "pipelineModel = partialPipeline.fit(df)"
   ]
  },
  {
   "cell_type": "code",
   "execution_count": 42,
   "id": "295a4431-e0e0-4cdb-9b65-d077b0a0d8c6",
   "metadata": {},
   "outputs": [],
   "source": [
    "preppedDataDF = pipelineModel.transform(df)"
   ]
  },
  {
   "cell_type": "code",
   "execution_count": 43,
   "id": "78b38a4d-3e50-4b1d-8a2d-1269519d22f7",
   "metadata": {},
   "outputs": [
    {
     "data": {
      "text/html": [
       "<div>\n",
       "<style scoped>\n",
       "    .dataframe tbody tr th:only-of-type {\n",
       "        vertical-align: middle;\n",
       "    }\n",
       "\n",
       "    .dataframe tbody tr th {\n",
       "        vertical-align: top;\n",
       "    }\n",
       "\n",
       "    .dataframe thead th {\n",
       "        text-align: right;\n",
       "    }\n",
       "</style>\n",
       "<table border=\"1\" class=\"dataframe\">\n",
       "  <thead>\n",
       "    <tr style=\"text-align: right;\">\n",
       "      <th></th>\n",
       "      <th>label</th>\n",
       "      <th>features</th>\n",
       "      <th>customerID</th>\n",
       "      <th>gender</th>\n",
       "      <th>SeniorCitizen</th>\n",
       "      <th>Partner</th>\n",
       "      <th>Dependents</th>\n",
       "      <th>tenure</th>\n",
       "      <th>PhoneService</th>\n",
       "      <th>MultipleLines</th>\n",
       "      <th>...</th>\n",
       "      <th>DeviceProtection</th>\n",
       "      <th>TechSupport</th>\n",
       "      <th>StreamingTV</th>\n",
       "      <th>StreamingMovies</th>\n",
       "      <th>Contract</th>\n",
       "      <th>PaperlessBilling</th>\n",
       "      <th>PaymentMethod</th>\n",
       "      <th>MonthlyCharges</th>\n",
       "      <th>TotalCharges</th>\n",
       "      <th>Churn</th>\n",
       "    </tr>\n",
       "  </thead>\n",
       "  <tbody>\n",
       "    <tr>\n",
       "      <th>0</th>\n",
       "      <td>0.0</td>\n",
       "      <td>(1.0, 1.0, 0.0, 1.0, 2.0, 1.0, 0.0, 1.0, 0.0, ...</td>\n",
       "      <td>7590-VHVEG</td>\n",
       "      <td>Female</td>\n",
       "      <td>0</td>\n",
       "      <td>Yes</td>\n",
       "      <td>No</td>\n",
       "      <td>1</td>\n",
       "      <td>No</td>\n",
       "      <td>No phone service</td>\n",
       "      <td>...</td>\n",
       "      <td>No</td>\n",
       "      <td>No</td>\n",
       "      <td>No</td>\n",
       "      <td>No</td>\n",
       "      <td>Month-to-month</td>\n",
       "      <td>Yes</td>\n",
       "      <td>Electronic check</td>\n",
       "      <td>29.85</td>\n",
       "      <td>29.85</td>\n",
       "      <td>No</td>\n",
       "    </tr>\n",
       "    <tr>\n",
       "      <th>1</th>\n",
       "      <td>0.0</td>\n",
       "      <td>(0.0, 0.0, 0.0, 0.0, 0.0, 1.0, 1.0, 0.0, 1.0, ...</td>\n",
       "      <td>5575-GNVDE</td>\n",
       "      <td>Male</td>\n",
       "      <td>0</td>\n",
       "      <td>No</td>\n",
       "      <td>No</td>\n",
       "      <td>34</td>\n",
       "      <td>Yes</td>\n",
       "      <td>No</td>\n",
       "      <td>...</td>\n",
       "      <td>Yes</td>\n",
       "      <td>No</td>\n",
       "      <td>No</td>\n",
       "      <td>No</td>\n",
       "      <td>One year</td>\n",
       "      <td>No</td>\n",
       "      <td>Mailed check</td>\n",
       "      <td>56.95</td>\n",
       "      <td>1889.5</td>\n",
       "      <td>No</td>\n",
       "    </tr>\n",
       "    <tr>\n",
       "      <th>2</th>\n",
       "      <td>1.0</td>\n",
       "      <td>(0.0, 0.0, 0.0, 0.0, 0.0, 1.0, 1.0, 1.0, 0.0, ...</td>\n",
       "      <td>3668-QPYBK</td>\n",
       "      <td>Male</td>\n",
       "      <td>0</td>\n",
       "      <td>No</td>\n",
       "      <td>No</td>\n",
       "      <td>2</td>\n",
       "      <td>Yes</td>\n",
       "      <td>No</td>\n",
       "      <td>...</td>\n",
       "      <td>No</td>\n",
       "      <td>No</td>\n",
       "      <td>No</td>\n",
       "      <td>No</td>\n",
       "      <td>Month-to-month</td>\n",
       "      <td>Yes</td>\n",
       "      <td>Mailed check</td>\n",
       "      <td>53.85</td>\n",
       "      <td>108.15</td>\n",
       "      <td>Yes</td>\n",
       "    </tr>\n",
       "    <tr>\n",
       "      <th>3</th>\n",
       "      <td>0.0</td>\n",
       "      <td>[0.0, 0.0, 0.0, 1.0, 2.0, 1.0, 1.0, 0.0, 1.0, ...</td>\n",
       "      <td>7795-CFOCW</td>\n",
       "      <td>Male</td>\n",
       "      <td>0</td>\n",
       "      <td>No</td>\n",
       "      <td>No</td>\n",
       "      <td>45</td>\n",
       "      <td>No</td>\n",
       "      <td>No phone service</td>\n",
       "      <td>...</td>\n",
       "      <td>Yes</td>\n",
       "      <td>Yes</td>\n",
       "      <td>No</td>\n",
       "      <td>No</td>\n",
       "      <td>One year</td>\n",
       "      <td>No</td>\n",
       "      <td>Bank transfer (automatic)</td>\n",
       "      <td>42.30</td>\n",
       "      <td>1840.75</td>\n",
       "      <td>No</td>\n",
       "    </tr>\n",
       "    <tr>\n",
       "      <th>4</th>\n",
       "      <td>1.0</td>\n",
       "      <td>(1.0, 0.0, 0.0, 0.0, 0.0, 0.0, 0.0, 0.0, 0.0, ...</td>\n",
       "      <td>9237-HQITU</td>\n",
       "      <td>Female</td>\n",
       "      <td>0</td>\n",
       "      <td>No</td>\n",
       "      <td>No</td>\n",
       "      <td>2</td>\n",
       "      <td>Yes</td>\n",
       "      <td>No</td>\n",
       "      <td>...</td>\n",
       "      <td>No</td>\n",
       "      <td>No</td>\n",
       "      <td>No</td>\n",
       "      <td>No</td>\n",
       "      <td>Month-to-month</td>\n",
       "      <td>Yes</td>\n",
       "      <td>Electronic check</td>\n",
       "      <td>70.70</td>\n",
       "      <td>151.65</td>\n",
       "      <td>Yes</td>\n",
       "    </tr>\n",
       "  </tbody>\n",
       "</table>\n",
       "<p>5 rows × 23 columns</p>\n",
       "</div>"
      ],
      "text/plain": [
       "   label                                           features  customerID  \\\n",
       "0    0.0  (1.0, 1.0, 0.0, 1.0, 2.0, 1.0, 0.0, 1.0, 0.0, ...  7590-VHVEG   \n",
       "1    0.0  (0.0, 0.0, 0.0, 0.0, 0.0, 1.0, 1.0, 0.0, 1.0, ...  5575-GNVDE   \n",
       "2    1.0  (0.0, 0.0, 0.0, 0.0, 0.0, 1.0, 1.0, 1.0, 0.0, ...  3668-QPYBK   \n",
       "3    0.0  [0.0, 0.0, 0.0, 1.0, 2.0, 1.0, 1.0, 0.0, 1.0, ...  7795-CFOCW   \n",
       "4    1.0  (1.0, 0.0, 0.0, 0.0, 0.0, 0.0, 0.0, 0.0, 0.0, ...  9237-HQITU   \n",
       "\n",
       "   gender  SeniorCitizen Partner Dependents  tenure PhoneService  \\\n",
       "0  Female              0     Yes         No       1           No   \n",
       "1    Male              0      No         No      34          Yes   \n",
       "2    Male              0      No         No       2          Yes   \n",
       "3    Male              0      No         No      45           No   \n",
       "4  Female              0      No         No       2          Yes   \n",
       "\n",
       "      MultipleLines  ... DeviceProtection TechSupport StreamingTV  \\\n",
       "0  No phone service  ...               No          No          No   \n",
       "1                No  ...              Yes          No          No   \n",
       "2                No  ...               No          No          No   \n",
       "3  No phone service  ...              Yes         Yes          No   \n",
       "4                No  ...               No          No          No   \n",
       "\n",
       "  StreamingMovies        Contract PaperlessBilling              PaymentMethod  \\\n",
       "0              No  Month-to-month              Yes           Electronic check   \n",
       "1              No        One year               No               Mailed check   \n",
       "2              No  Month-to-month              Yes               Mailed check   \n",
       "3              No        One year               No  Bank transfer (automatic)   \n",
       "4              No  Month-to-month              Yes           Electronic check   \n",
       "\n",
       "  MonthlyCharges TotalCharges Churn  \n",
       "0          29.85        29.85    No  \n",
       "1          56.95       1889.5    No  \n",
       "2          53.85       108.15   Yes  \n",
       "3          42.30      1840.75    No  \n",
       "4          70.70       151.65   Yes  \n",
       "\n",
       "[5 rows x 23 columns]"
      ]
     },
     "execution_count": 43,
     "metadata": {},
     "output_type": "execute_result"
    }
   ],
   "source": [
    "selectedcols = [\"label\", \"features\"] + df.columns\n",
    "dataset = preppedDataDF.select(selectedcols)\n",
    "\n",
    "dataset.toPandas().head(5)"
   ]
  },
  {
   "cell_type": "code",
   "execution_count": 44,
   "id": "457f7ec2-afcd-43fb-b4b5-a176f9c9577b",
   "metadata": {},
   "outputs": [
    {
     "name": "stdout",
     "output_type": "stream",
     "text": [
      "Training Dataset Count: 4978\n",
      "Test Dataset Count: 2065\n"
     ]
    }
   ],
   "source": [
    "train, test = dataset.randomSplit([0.7, 0.3], seed = 2018)\n",
    "print(\"Training Dataset Count: \" + str(train.count()))\n",
    "print(\"Test Dataset Count: \" + str(test.count()))"
   ]
  },
  {
   "cell_type": "code",
   "execution_count": 45,
   "id": "b76434de-381e-431a-9627-c6918d08ef9c",
   "metadata": {},
   "outputs": [
    {
     "name": "stdout",
     "output_type": "stream",
     "text": [
      "DataFrame[label: double, features: vector, customerID: string, gender: string, SeniorCitizen: int, Partner: string, Dependents: string, tenure: int, PhoneService: string, MultipleLines: string, InternetService: string, OnlineSecurity: string, OnlineBackup: string, DeviceProtection: string, TechSupport: string, StreamingTV: string, StreamingMovies: string, Contract: string, PaperlessBilling: string, PaymentMethod: string, MonthlyCharges: double, TotalCharges: string, Churn: string]\n"
     ]
    }
   ],
   "source": [
    "print (train)"
   ]
  },
  {
   "cell_type": "code",
   "execution_count": 46,
   "id": "adfcd40c-e749-4763-80f7-bae7130acf00",
   "metadata": {},
   "outputs": [],
   "source": [
    "lr = LogisticRegression(labelCol=\"label\", featuresCol=\"features\", maxIter=10)\n",
    "\n",
    "# Train model with Training Data with Logistic Regression\n",
    "lrModel = lr.fit(train)"
   ]
  },
  {
   "cell_type": "code",
   "execution_count": 47,
   "id": "7f653e8a-5f49-4b13-b0e6-bc55e2399a60",
   "metadata": {},
   "outputs": [],
   "source": [
    "rf = RandomForestClassifier(numTrees=50,labelCol=\"label\", featuresCol=\"features\")\n",
    "rfModel = rf.fit(train)"
   ]
  },
  {
   "cell_type": "code",
   "execution_count": 48,
   "id": "86167803-b4ea-48fa-830e-c86b9152800b",
   "metadata": {},
   "outputs": [],
   "source": [
    "nb = NaiveBayes(labelCol=\"label\", featuresCol=\"features\")\n",
    "nb_model=nb.fit(train)"
   ]
  },
  {
   "cell_type": "code",
   "execution_count": 49,
   "id": "ee1a9979-70f1-4b41-b4b8-44c1681bd0b2",
   "metadata": {},
   "outputs": [
    {
     "name": "stdout",
     "output_type": "stream",
     "text": [
      "+-----+--------------------+----------+--------------------+\n",
      "|label|       rawPrediction|prediction|         probability|\n",
      "+-----+--------------------+----------+--------------------+\n",
      "|  0.0|[1.49260902672313...|       0.0|[0.81646955031704...|\n",
      "|  0.0|[0.74675652261104...|       0.0|[0.67847155134241...|\n",
      "|  0.0|[2.14010937083949...|       0.0|[0.89474091142552...|\n",
      "|  0.0|[0.47608243207585...|       0.0|[0.61682237241467...|\n",
      "|  0.0|[0.32169904943477...|       0.0|[0.57973826761698...|\n",
      "|  0.0|[0.42132266388738...|       0.0|[0.60379970835508...|\n",
      "|  0.0|[1.12154076924831...|       0.0|[0.75427440146784...|\n",
      "|  0.0|[-0.9512708137628...|       1.0|[0.27862932289240...|\n",
      "|  0.0|[1.87354732869217...|       0.0|[0.86686819964147...|\n",
      "|  0.0|[0.14270874716200...|       0.0|[0.53561676035323...|\n",
      "+-----+--------------------+----------+--------------------+\n",
      "only showing top 10 rows\n",
      "\n"
     ]
    }
   ],
   "source": [
    "lrPreds = lrModel.transform(test)\n",
    "lrPreds.select('label', 'rawPrediction', 'prediction', 'probability').show(10)"
   ]
  },
  {
   "cell_type": "code",
   "execution_count": 50,
   "id": "37ec23b9-37e1-4448-8c87-3ffdbcd5c1e4",
   "metadata": {},
   "outputs": [
    {
     "name": "stdout",
     "output_type": "stream",
     "text": [
      "+-----+--------------------+----------+--------------------+\n",
      "|label|       rawPrediction|prediction|         probability|\n",
      "+-----+--------------------+----------+--------------------+\n",
      "|  0.0|[39.5305776660646...|       0.0|[0.79061155332129...|\n",
      "|  0.0|[37.3316337962377...|       0.0|[0.74663267592475...|\n",
      "|  0.0|[41.1909074896073...|       0.0|[0.82381814979214...|\n",
      "|  0.0|[35.4273577526957...|       0.0|[0.70854715505391...|\n",
      "|  0.0|[34.0080557844228...|       0.0|[0.68016111568845...|\n",
      "|  0.0|[29.9990585340560...|       0.0|[0.59998117068112...|\n",
      "|  0.0|[37.5168768750253...|       0.0|[0.75033753750050...|\n",
      "|  0.0|[20.5471047296826...|       1.0|[0.41094209459365...|\n",
      "|  0.0|[41.1280180526863...|       0.0|[0.82256036105372...|\n",
      "|  0.0|[28.7652786706687...|       0.0|[0.57530557341337...|\n",
      "+-----+--------------------+----------+--------------------+\n",
      "only showing top 10 rows\n",
      "\n"
     ]
    }
   ],
   "source": [
    "rfPreds = rfModel.transform(test)\n",
    "rfPreds.select('label', 'rawPrediction', 'prediction', 'probability').show(10)"
   ]
  },
  {
   "cell_type": "code",
   "execution_count": 51,
   "id": "fb586738-6fcc-4382-b01f-fe31b980a87a",
   "metadata": {},
   "outputs": [
    {
     "name": "stdout",
     "output_type": "stream",
     "text": [
      "+-----+--------------------+----------+--------------------+\n",
      "|label|       rawPrediction|prediction|         probability|\n",
      "+-----+--------------------+----------+--------------------+\n",
      "|  0.0|[-103.66415518465...|       0.0|[0.99999822767701...|\n",
      "|  0.0|[-78.301512209024...|       0.0|[0.99910409084695...|\n",
      "|  0.0|[-121.80688887799...|       0.0|[0.99991709719558...|\n",
      "|  0.0|[-79.342028729604...|       1.0|[1.97611882195788...|\n",
      "|  0.0|[-77.997701982655...|       1.0|[4.56617845482170...|\n",
      "|  0.0|[-68.424879094722...|       1.0|[4.62794428756894...|\n",
      "|  0.0|[-144.37211843203...|       0.0|[0.83396941013991...|\n",
      "|  0.0|[-102.27955142923...|       1.0|[6.53176875240345...|\n",
      "|  0.0|[-169.43735994978...|       0.0|[0.99999997660592...|\n",
      "|  0.0|[-131.94742151101...|       1.0|[0.07356273172467...|\n",
      "+-----+--------------------+----------+--------------------+\n",
      "only showing top 10 rows\n",
      "\n"
     ]
    }
   ],
   "source": [
    "nbPreds = nb_model.transform(test)\n",
    "nbPreds.select('label', 'rawPrediction', 'prediction', 'probability').show(10)"
   ]
  },
  {
   "cell_type": "code",
   "execution_count": 52,
   "id": "6a3e3aa0-c077-4f9c-a4a0-4741dce329ef",
   "metadata": {},
   "outputs": [
    {
     "data": {
      "text/plain": [
       "DataFrame[metric: string, value: bigint]"
      ]
     },
     "metadata": {},
     "output_type": "display_data"
    }
   ],
   "source": [
    "correct = lrPreds.where(\"(label = prediction)\").count()\n",
    "incorrect = lrPreds.where(\"(label != prediction)\").count()\n",
    "\n",
    "resultDF = get_spark().createDataFrame([['correct', correct], ['incorrect', incorrect]], ['metric', 'value'])\n",
    "display(resultDF)"
   ]
  },
  {
   "cell_type": "code",
   "execution_count": 53,
   "id": "1c20ba69-a7fe-44a3-be1a-1e04e3d6be2d",
   "metadata": {},
   "outputs": [
    {
     "data": {
      "text/plain": [
       "0.841397887954177"
      ]
     },
     "execution_count": 53,
     "metadata": {},
     "output_type": "execute_result"
    }
   ],
   "source": [
    "# AUC \n",
    "evaluator = BinaryClassificationEvaluator(rawPredictionCol=\"rawPrediction\")\n",
    "evaluator.evaluate(lrPreds)"
   ]
  },
  {
   "cell_type": "code",
   "execution_count": 54,
   "id": "1f30be7c-2e30-4c89-9452-4e2441fb8e26",
   "metadata": {},
   "outputs": [
    {
     "name": "stdout",
     "output_type": "stream",
     "text": [
      "Classification report of Logistic\n",
      "+-----+----------+-----+\n",
      "|label|prediction|count|\n",
      "+-----+----------+-----+\n",
      "|  1.0|       1.0|  293|\n",
      "|  0.0|       1.0|  143|\n",
      "|  1.0|       0.0|  262|\n",
      "|  0.0|       0.0| 1367|\n",
      "+-----+----------+-----+\n",
      "\n",
      "n precision: 0.672\n",
      "n recall: 0.528\n",
      "n accuracy: 0.804\n",
      "n F1 score: 0.591\n"
     ]
    }
   ],
   "source": [
    "print(\"Classification report of Logistic\")\n",
    "lrPreds.groupBy('label', 'prediction').count().show()\n",
    "# Calculate the elements of the confusion matrix\n",
    "TN = lrPreds.filter('prediction = 0 AND label = prediction').count()\n",
    "TP = lrPreds.filter('prediction = 1 AND label = prediction').count()\n",
    "FN = lrPreds.filter('prediction = 0 AND label <> prediction').count()\n",
    "FP = lrPreds.filter('prediction = 1 AND label <> prediction').count()\n",
    "# calculate accuracy, precision, recall, and F1-score\n",
    "accuracy = (TN + TP) / (TN + TP + FN + FP)\n",
    "precision = TP / (TP + FP)\n",
    "recall = TP / (TP + FN)\n",
    "F =  2 * (precision*recall) / (precision + recall)\n",
    "print('n precision: %0.3f' % precision)\n",
    "print('n recall: %0.3f' % recall)\n",
    "print('n accuracy: %0.3f' % accuracy)\n",
    "print('n F1 score: %0.3f' % F)"
   ]
  },
  {
   "cell_type": "code",
   "execution_count": 55,
   "id": "de5e4308-d772-4709-bcc0-17f83155d31e",
   "metadata": {},
   "outputs": [
    {
     "data": {
      "text/plain": [
       "DataFrame[metric: string, value: bigint]"
      ]
     },
     "metadata": {},
     "output_type": "display_data"
    }
   ],
   "source": [
    "correct = rfPreds.where(\"(label = prediction)\").count()\n",
    "incorrect = rfPreds.where(\"(label != prediction)\").count()\n",
    "\n",
    "resultDF_RF = get_spark().createDataFrame([['correct', correct], ['incorrect', incorrect]], ['metric', 'value'])\n",
    "display(resultDF_RF)"
   ]
  },
  {
   "cell_type": "code",
   "execution_count": 56,
   "id": "b9e2bc59-954d-4462-a814-7ed3a8b465b6",
   "metadata": {},
   "outputs": [
    {
     "data": {
      "text/plain": [
       "0.8422152616192327"
      ]
     },
     "execution_count": 56,
     "metadata": {},
     "output_type": "execute_result"
    }
   ],
   "source": [
    "evaluator = BinaryClassificationEvaluator(rawPredictionCol=\"rawPrediction\")\n",
    "evaluator.evaluate(rfPreds)"
   ]
  },
  {
   "cell_type": "code",
   "execution_count": 57,
   "id": "52bbd7a2-692f-4985-bce3-3b25b6fee4a5",
   "metadata": {},
   "outputs": [
    {
     "name": "stdout",
     "output_type": "stream",
     "text": [
      "Classification report of Random Forest\n",
      "+-----+----------+-----+\n",
      "|label|prediction|count|\n",
      "+-----+----------+-----+\n",
      "|  1.0|       1.0|  207|\n",
      "|  0.0|       1.0|   90|\n",
      "|  1.0|       0.0|  348|\n",
      "|  0.0|       0.0| 1420|\n",
      "+-----+----------+-----+\n",
      "\n",
      "n precision: 0.697\n",
      "n recall: 0.373\n",
      "n accuracy: 0.788\n",
      "n F1 score: 0.486\n"
     ]
    }
   ],
   "source": [
    "print(\"Classification report of Random Forest\")\n",
    "rfPreds.groupBy('label', 'prediction').count().show()\n",
    "# Calculate the elements of the confusion matrix\n",
    "TN = rfPreds.filter('prediction = 0 AND label = prediction').count()\n",
    "TP = rfPreds.filter('prediction = 1 AND label = prediction').count()\n",
    "FN = rfPreds.filter('prediction = 0 AND label <> prediction').count()\n",
    "FP = rfPreds.filter('prediction = 1 AND label <> prediction').count()\n",
    "# calculate accuracy, precision, recall, and F1-score\n",
    "accuracy = (TN + TP) / (TN + TP + FN + FP)\n",
    "precision = TP / (TP + FP)\n",
    "recall = TP / (TP + FN)\n",
    "F =  2 * (precision*recall) / (precision + recall)\n",
    "print('n precision: %0.3f' % precision)\n",
    "print('n recall: %0.3f' % recall)\n",
    "print('n accuracy: %0.3f' % accuracy)\n",
    "print('n F1 score: %0.3f' % F)"
   ]
  },
  {
   "cell_type": "code",
   "execution_count": 58,
   "id": "d96b732d-d6b5-4cb1-9897-425cd0aa2076",
   "metadata": {},
   "outputs": [
    {
     "data": {
      "text/plain": [
       "DataFrame[metric: string, value: bigint]"
      ]
     },
     "metadata": {},
     "output_type": "display_data"
    }
   ],
   "source": [
    "correct = nbPreds.where(\"(label = prediction)\").count()\n",
    "incorrect = nbPreds.where(\"(label != prediction)\").count()\n",
    "\n",
    "resultDF_NB = get_spark().createDataFrame([['correct', correct], ['incorrect', incorrect]], ['metric', 'value'])\n",
    "display(resultDF_NB)"
   ]
  },
  {
   "cell_type": "code",
   "execution_count": 59,
   "id": "11c2a57f-6397-4f90-9e67-e2e6f22138ff",
   "metadata": {},
   "outputs": [
    {
     "name": "stdout",
     "output_type": "stream",
     "text": [
      "Classification report of Naive Bayes\n",
      "+-----+----------+-----+\n",
      "|label|prediction|count|\n",
      "+-----+----------+-----+\n",
      "|  1.0|       1.0|  411|\n",
      "|  0.0|       1.0|  392|\n",
      "|  1.0|       0.0|  144|\n",
      "|  0.0|       0.0| 1118|\n",
      "+-----+----------+-----+\n",
      "\n",
      "n precision: 0.512\n",
      "n recall: 0.741\n",
      "n accuracy: 0.740\n",
      "n F1 score: 0.605\n"
     ]
    }
   ],
   "source": [
    "print(\"Classification report of Naive Bayes\")\n",
    "nbPreds.groupBy('label', 'prediction').count().show()\n",
    "# Calculate the elements of the confusion matrix\n",
    "TN = nbPreds.filter('prediction = 0 AND label = prediction').count()\n",
    "TP = nbPreds.filter('prediction = 1 AND label = prediction').count()\n",
    "FN = nbPreds.filter('prediction = 0 AND label <> prediction').count()\n",
    "FP = nbPreds.filter('prediction = 1 AND label <> prediction').count()\n",
    "# calculate accuracy, precision, recall, and F1-score\n",
    "accuracy = (TN + TP) / (TN + TP + FN + FP)\n",
    "precision = TP / (TP + FP)\n",
    "recall = TP / (TP + FN)\n",
    "F =  2 * (precision*recall) / (precision + recall)\n",
    "print('n precision: %0.3f' % precision)\n",
    "print('n recall: %0.3f' % recall)\n",
    "print('n accuracy: %0.3f' % accuracy)\n",
    "print('n F1 score: %0.3f' % F)"
   ]
  },
  {
   "cell_type": "code",
   "execution_count": 60,
   "id": "8313bad0-7e4a-4895-bef4-41f3342d69e2",
   "metadata": {},
   "outputs": [],
   "source": [
    "# Create ParamGrid for Cross Validation\n",
    "paramGrid = (ParamGridBuilder()\n",
    "             .addGrid(lr.regParam, [0.01, 0.5, 2.0])\n",
    "             .addGrid(lr.elasticNetParam, [0.0, 0.5, 1.0])\n",
    "             .addGrid(lr.maxIter, [1, 5, 10])\n",
    "             .build())"
   ]
  },
  {
   "cell_type": "code",
   "execution_count": 61,
   "id": "8032da6c-4a35-4451-946a-7f1f73f254b3",
   "metadata": {},
   "outputs": [],
   "source": [
    "# Running with Cross validation\n",
    "cv = CrossValidator(estimator=lr, estimatorParamMaps=paramGrid, evaluator=evaluator, numFolds=5)\n",
    "\n",
    "# Run cross validations\n",
    "cvModel = cv.fit(train)"
   ]
  },
  {
   "cell_type": "code",
   "execution_count": 62,
   "id": "f9c33d97-e3e8-4e9b-96ed-cd056fe02b27",
   "metadata": {},
   "outputs": [],
   "source": [
    "predictions = cvModel.transform(test)"
   ]
  },
  {
   "cell_type": "code",
   "execution_count": 63,
   "id": "2f91ba9f-bbcd-4131-b030-f31492c215c3",
   "metadata": {},
   "outputs": [
    {
     "data": {
      "text/plain": [
       "DataFrame[metric: string, value: bigint]"
      ]
     },
     "metadata": {},
     "output_type": "display_data"
    }
   ],
   "source": [
    "correct = predictions.where(\"(label = prediction)\").count()\n",
    "incorrect = predictions.where(\"(label != prediction)\").count()\n",
    "\n",
    "resultDF_cv = get_spark().createDataFrame([['correct', correct], ['incorrect', incorrect]], ['metric', 'value'])\n",
    "display(resultDF_cv)"
   ]
  },
  {
   "cell_type": "code",
   "execution_count": 64,
   "id": "494ea177-36de-41ff-8e5d-ae810cb99eca",
   "metadata": {},
   "outputs": [
    {
     "name": "stdout",
     "output_type": "stream",
     "text": [
      "Classification report of Logistic with CV\n",
      "+-----+----------+-----+\n",
      "|label|prediction|count|\n",
      "+-----+----------+-----+\n",
      "|  1.0|       1.0|  295|\n",
      "|  0.0|       1.0|  138|\n",
      "|  1.0|       0.0|  260|\n",
      "|  0.0|       0.0| 1372|\n",
      "+-----+----------+-----+\n",
      "\n",
      "n precision: 0.681\n",
      "n recall: 0.532\n",
      "n accuracy: 0.807\n",
      "n F1 score: 0.597\n"
     ]
    }
   ],
   "source": [
    "print(\"Classification report of Logistic with CV\")\n",
    "predictions.groupBy('label', 'prediction').count().show()\n",
    "# Calculate the elements of the confusion matrix\n",
    "TN = predictions.filter('prediction = 0 AND label = prediction').count()\n",
    "TP = predictions.filter('prediction = 1 AND label = prediction').count()\n",
    "FN = predictions.filter('prediction = 0 AND label <> prediction').count()\n",
    "FP = predictions.filter('prediction = 1 AND label <> prediction').count()\n",
    "# calculate accuracy, precision, recall, and F1-score\n",
    "accuracy = (TN + TP) / (TN + TP + FN + FP)\n",
    "precision = TP / (TP + FP)\n",
    "recall = TP / (TP + FN)\n",
    "F =  2 * (precision*recall) / (precision + recall)\n",
    "print('n precision: %0.3f' % precision)\n",
    "print('n recall: %0.3f' % recall)\n",
    "print('n accuracy: %0.3f' % accuracy)\n",
    "print('n F1 score: %0.3f' % F)"
   ]
  },
  {
   "cell_type": "code",
   "execution_count": 65,
   "id": "3ed9cca9-a619-4f42-886c-5557fc072577",
   "metadata": {},
   "outputs": [],
   "source": [
    "paramGrid_RF = (ParamGridBuilder()\n",
    "             .addGrid(rf.maxDepth, [5, 10, 15])\n",
    "             .build())"
   ]
  },
  {
   "cell_type": "code",
   "execution_count": 66,
   "id": "dcb2dc9d-b6d3-4872-a1c6-e38f9ff7b74c",
   "metadata": {},
   "outputs": [
    {
     "name": "stderr",
     "output_type": "stream",
     "text": [
      "23/12/13 13:26:12 WARN DAGScheduler: Broadcasting large task binary with size 1050.2 KiB\n",
      "23/12/13 13:26:12 WARN DAGScheduler: Broadcasting large task binary with size 1701.2 KiB\n",
      "23/12/13 13:26:12 WARN DAGScheduler: Broadcasting large task binary with size 2.5 MiB\n",
      "23/12/13 13:26:13 WARN DAGScheduler: Broadcasting large task binary with size 3.6 MiB\n",
      "23/12/13 13:26:14 WARN DAGScheduler: Broadcasting large task binary with size 2.4 MiB\n",
      "23/12/13 13:26:15 WARN DAGScheduler: Broadcasting large task binary with size 1050.2 KiB\n",
      "23/12/13 13:26:15 WARN DAGScheduler: Broadcasting large task binary with size 1701.2 KiB\n",
      "23/12/13 13:26:16 WARN DAGScheduler: Broadcasting large task binary with size 2.5 MiB\n",
      "23/12/13 13:26:16 WARN DAGScheduler: Broadcasting large task binary with size 3.6 MiB\n",
      "23/12/13 13:26:17 WARN DAGScheduler: Broadcasting large task binary with size 4.8 MiB\n",
      "23/12/13 13:26:18 WARN DAGScheduler: Broadcasting large task binary with size 5.9 MiB\n",
      "23/12/13 13:26:18 WARN DAGScheduler: Broadcasting large task binary with size 6.9 MiB\n",
      "23/12/13 13:26:19 WARN DAGScheduler: Broadcasting large task binary with size 7.7 MiB\n",
      "23/12/13 13:26:20 WARN DAGScheduler: Broadcasting large task binary with size 8.2 MiB\n",
      "23/12/13 13:26:21 WARN DAGScheduler: Broadcasting large task binary with size 5.0 MiB\n",
      "23/12/13 13:26:24 WARN DAGScheduler: Broadcasting large task binary with size 1043.5 KiB\n",
      "23/12/13 13:26:25 WARN DAGScheduler: Broadcasting large task binary with size 1694.4 KiB\n",
      "23/12/13 13:26:25 WARN DAGScheduler: Broadcasting large task binary with size 2.5 MiB\n",
      "23/12/13 13:26:25 WARN DAGScheduler: Broadcasting large task binary with size 3.6 MiB\n",
      "23/12/13 13:26:26 WARN DAGScheduler: Broadcasting large task binary with size 2.4 MiB\n",
      "23/12/13 13:26:28 WARN DAGScheduler: Broadcasting large task binary with size 1043.5 KiB\n",
      "23/12/13 13:26:28 WARN DAGScheduler: Broadcasting large task binary with size 1694.4 KiB\n",
      "23/12/13 13:26:28 WARN DAGScheduler: Broadcasting large task binary with size 2.5 MiB\n",
      "23/12/13 13:26:29 WARN DAGScheduler: Broadcasting large task binary with size 3.6 MiB\n",
      "23/12/13 13:26:30 WARN DAGScheduler: Broadcasting large task binary with size 4.8 MiB\n",
      "23/12/13 13:26:30 WARN DAGScheduler: Broadcasting large task binary with size 6.0 MiB\n",
      "23/12/13 13:26:31 WARN DAGScheduler: Broadcasting large task binary with size 7.0 MiB\n",
      "23/12/13 13:26:33 WARN DAGScheduler: Broadcasting large task binary with size 7.8 MiB\n",
      "23/12/13 13:26:34 WARN DAGScheduler: Broadcasting large task binary with size 8.3 MiB\n",
      "23/12/13 13:26:35 WARN DAGScheduler: Broadcasting large task binary with size 5.1 MiB\n",
      "23/12/13 13:26:38 WARN DAGScheduler: Broadcasting large task binary with size 1048.0 KiB\n",
      "23/12/13 13:26:39 WARN DAGScheduler: Broadcasting large task binary with size 1694.8 KiB\n",
      "23/12/13 13:26:39 WARN DAGScheduler: Broadcasting large task binary with size 2.5 MiB\n",
      "23/12/13 13:26:40 WARN DAGScheduler: Broadcasting large task binary with size 3.6 MiB\n",
      "23/12/13 13:26:41 WARN DAGScheduler: Broadcasting large task binary with size 2.4 MiB\n",
      "23/12/13 13:26:42 WARN DAGScheduler: Broadcasting large task binary with size 1048.0 KiB\n",
      "23/12/13 13:26:42 WARN DAGScheduler: Broadcasting large task binary with size 1694.8 KiB\n",
      "23/12/13 13:26:43 WARN DAGScheduler: Broadcasting large task binary with size 2.5 MiB\n",
      "23/12/13 13:26:43 WARN DAGScheduler: Broadcasting large task binary with size 3.6 MiB\n",
      "23/12/13 13:26:44 WARN DAGScheduler: Broadcasting large task binary with size 4.8 MiB\n",
      "23/12/13 13:26:45 WARN DAGScheduler: Broadcasting large task binary with size 5.9 MiB\n",
      "23/12/13 13:26:45 WARN DAGScheduler: Broadcasting large task binary with size 6.9 MiB\n",
      "23/12/13 13:26:46 WARN DAGScheduler: Broadcasting large task binary with size 7.7 MiB\n",
      "23/12/13 13:26:47 WARN DAGScheduler: Broadcasting large task binary with size 8.3 MiB\n",
      "23/12/13 13:26:48 WARN DAGScheduler: Broadcasting large task binary with size 5.1 MiB\n",
      "23/12/13 13:26:51 WARN DAGScheduler: Broadcasting large task binary with size 1042.7 KiB\n",
      "23/12/13 13:26:51 WARN DAGScheduler: Broadcasting large task binary with size 1690.1 KiB\n",
      "23/12/13 13:26:52 WARN DAGScheduler: Broadcasting large task binary with size 2.5 MiB\n",
      "23/12/13 13:26:52 WARN DAGScheduler: Broadcasting large task binary with size 3.6 MiB\n",
      "23/12/13 13:26:53 WARN DAGScheduler: Broadcasting large task binary with size 2.4 MiB\n",
      "23/12/13 13:26:54 WARN DAGScheduler: Broadcasting large task binary with size 1042.7 KiB\n",
      "23/12/13 13:26:55 WARN DAGScheduler: Broadcasting large task binary with size 1690.1 KiB\n",
      "23/12/13 13:26:55 WARN DAGScheduler: Broadcasting large task binary with size 2.5 MiB\n",
      "23/12/13 13:26:55 WARN DAGScheduler: Broadcasting large task binary with size 3.6 MiB\n",
      "23/12/13 13:26:56 WARN DAGScheduler: Broadcasting large task binary with size 4.8 MiB\n",
      "23/12/13 13:26:57 WARN DAGScheduler: Broadcasting large task binary with size 5.9 MiB\n",
      "23/12/13 13:26:58 WARN DAGScheduler: Broadcasting large task binary with size 6.9 MiB\n",
      "23/12/13 13:26:59 WARN DAGScheduler: Broadcasting large task binary with size 7.7 MiB\n",
      "23/12/13 13:27:00 WARN DAGScheduler: Broadcasting large task binary with size 8.2 MiB\n",
      "23/12/13 13:27:01 WARN DAGScheduler: Broadcasting large task binary with size 5.0 MiB\n",
      "23/12/13 13:27:04 WARN DAGScheduler: Broadcasting large task binary with size 1044.0 KiB\n",
      "23/12/13 13:27:04 WARN DAGScheduler: Broadcasting large task binary with size 1690.7 KiB\n",
      "23/12/13 13:27:05 WARN DAGScheduler: Broadcasting large task binary with size 2.5 MiB\n",
      "23/12/13 13:27:05 WARN DAGScheduler: Broadcasting large task binary with size 3.6 MiB\n",
      "23/12/13 13:27:06 WARN DAGScheduler: Broadcasting large task binary with size 2.4 MiB\n",
      "23/12/13 13:27:08 WARN DAGScheduler: Broadcasting large task binary with size 1044.0 KiB\n",
      "23/12/13 13:27:08 WARN DAGScheduler: Broadcasting large task binary with size 1690.7 KiB\n",
      "23/12/13 13:27:08 WARN DAGScheduler: Broadcasting large task binary with size 2.5 MiB\n",
      "23/12/13 13:27:09 WARN DAGScheduler: Broadcasting large task binary with size 3.6 MiB\n",
      "23/12/13 13:27:10 WARN DAGScheduler: Broadcasting large task binary with size 4.7 MiB\n",
      "23/12/13 13:27:10 WARN DAGScheduler: Broadcasting large task binary with size 5.8 MiB\n",
      "23/12/13 13:27:11 WARN DAGScheduler: Broadcasting large task binary with size 6.8 MiB\n",
      "23/12/13 13:27:12 WARN DAGScheduler: Broadcasting large task binary with size 7.5 MiB\n",
      "23/12/13 13:27:13 WARN DAGScheduler: Broadcasting large task binary with size 8.1 MiB\n",
      "23/12/13 13:27:14 WARN DAGScheduler: Broadcasting large task binary with size 5.0 MiB\n",
      "23/12/13 13:27:16 WARN DAGScheduler: Broadcasting large task binary with size 1051.6 KiB\n",
      "23/12/13 13:27:16 WARN DAGScheduler: Broadcasting large task binary with size 1745.8 KiB\n",
      "23/12/13 13:27:17 WARN DAGScheduler: Broadcasting large task binary with size 2.7 MiB\n",
      "23/12/13 13:27:17 WARN DAGScheduler: Broadcasting large task binary with size 3.9 MiB\n"
     ]
    }
   ],
   "source": [
    "cv_rf = CrossValidator(estimator=rf, estimatorParamMaps=paramGrid_RF, evaluator=evaluator, numFolds=5)\n",
    "\n",
    "# Run cross validations\n",
    "cvModel_rf = cv_rf.fit(train)"
   ]
  },
  {
   "cell_type": "code",
   "execution_count": 67,
   "id": "7dfcdf7d-41cf-4c69-a887-e8203355a8fb",
   "metadata": {},
   "outputs": [],
   "source": [
    "predictions_rf = cvModel_rf.transform(test)"
   ]
  },
  {
   "cell_type": "code",
   "execution_count": 68,
   "id": "d9d82c23-73cc-40a3-b679-b3108d8682a6",
   "metadata": {},
   "outputs": [
    {
     "name": "stderr",
     "output_type": "stream",
     "text": [
      "23/12/13 13:27:19 WARN DAGScheduler: Broadcasting large task binary with size 2.6 MiB\n",
      "23/12/13 13:27:19 WARN DAGScheduler: Broadcasting large task binary with size 2.6 MiB\n"
     ]
    },
    {
     "data": {
      "text/plain": [
       "DataFrame[metric: string, value: bigint]"
      ]
     },
     "metadata": {},
     "output_type": "display_data"
    }
   ],
   "source": [
    "correct = predictions_rf.where(\"(label = prediction)\").count()\n",
    "incorrect = predictions_rf.where(\"(label != prediction)\").count()\n",
    "\n",
    "resultDF_cv = get_spark().createDataFrame([['correct', correct], ['incorrect', incorrect]], ['metric', 'value'])\n",
    "display(resultDF_cv)"
   ]
  },
  {
   "cell_type": "code",
   "execution_count": 69,
   "id": "5a784652-ba9f-4794-bc9c-fa27eff8487c",
   "metadata": {},
   "outputs": [
    {
     "name": "stderr",
     "output_type": "stream",
     "text": [
      "23/12/13 13:27:19 WARN DAGScheduler: Broadcasting large task binary with size 2.6 MiB\n"
     ]
    },
    {
     "data": {
      "text/plain": [
       "0.8409754787900419"
      ]
     },
     "execution_count": 69,
     "metadata": {},
     "output_type": "execute_result"
    }
   ],
   "source": [
    "evaluator.evaluate(predictions_rf)"
   ]
  },
  {
   "cell_type": "code",
   "execution_count": 70,
   "id": "02c6c872-b61b-456f-b755-afc6f4825a14",
   "metadata": {},
   "outputs": [
    {
     "name": "stdout",
     "output_type": "stream",
     "text": [
      "Classification report of Random Forest with CV\n"
     ]
    },
    {
     "name": "stderr",
     "output_type": "stream",
     "text": [
      "23/12/13 13:27:20 WARN DAGScheduler: Broadcasting large task binary with size 2.6 MiB\n",
      "23/12/13 13:27:21 WARN DAGScheduler: Broadcasting large task binary with size 2.6 MiB\n"
     ]
    },
    {
     "name": "stdout",
     "output_type": "stream",
     "text": [
      "+-----+----------+-----+\n",
      "|label|prediction|count|\n",
      "+-----+----------+-----+\n",
      "|  1.0|       1.0|  276|\n",
      "|  0.0|       1.0|  143|\n",
      "|  1.0|       0.0|  279|\n",
      "|  0.0|       0.0| 1367|\n",
      "+-----+----------+-----+\n",
      "\n"
     ]
    },
    {
     "name": "stderr",
     "output_type": "stream",
     "text": [
      "23/12/13 13:27:21 WARN DAGScheduler: Broadcasting large task binary with size 2.6 MiB\n",
      "23/12/13 13:27:21 WARN DAGScheduler: Broadcasting large task binary with size 2.6 MiB\n",
      "23/12/13 13:27:22 WARN DAGScheduler: Broadcasting large task binary with size 2.6 MiB\n"
     ]
    },
    {
     "name": "stdout",
     "output_type": "stream",
     "text": [
      "n precision: 0.659\n",
      "n recall: 0.497\n",
      "n accuracy: 0.796\n",
      "n F1 score: 0.567\n"
     ]
    },
    {
     "name": "stderr",
     "output_type": "stream",
     "text": [
      "23/12/13 13:27:22 WARN DAGScheduler: Broadcasting large task binary with size 2.6 MiB\n"
     ]
    }
   ],
   "source": [
    "print(\"Classification report of Random Forest with CV\")\n",
    "predictions_rf.groupBy('label', 'prediction').count().show()\n",
    "# Calculate the elements of the confusion matrix\n",
    "TN = predictions_rf.filter('prediction = 0 AND label = prediction').count()\n",
    "TP = predictions_rf.filter('prediction = 1 AND label = prediction').count()\n",
    "FN = predictions_rf.filter('prediction = 0 AND label <> prediction').count()\n",
    "FP = predictions_rf.filter('prediction = 1 AND label <> prediction').count()\n",
    "# calculate accuracy, precision, recall, and F1-score\n",
    "accuracy = (TN + TP) / (TN + TP + FN + FP)\n",
    "precision = TP / (TP + FP)\n",
    "recall = TP / (TP + FN)\n",
    "F =  2 * (precision*recall) / (precision + recall)\n",
    "print('n precision: %0.3f' % precision)\n",
    "print('n recall: %0.3f' % recall)\n",
    "print('n accuracy: %0.3f' % accuracy)\n",
    "print('n F1 score: %0.3f' % F)"
   ]
  },
  {
   "cell_type": "code",
   "execution_count": 72,
   "id": "eb342890-b2c4-4335-92d5-de6d52686a8f",
   "metadata": {},
   "outputs": [],
   "source": [
    "#lrModel.save('../models/logistic_regression')\n",
    "#rfModel.save('../models/random_forrest')\n",
    "nb_model.save('../models/naive_bayes')"
   ]
  },
  {
   "cell_type": "code",
   "execution_count": null,
   "id": "47e72cfb-439e-418a-8a2f-a602831f7a67",
   "metadata": {},
   "outputs": [],
   "source": []
  }
 ],
 "metadata": {
  "kernelspec": {
   "display_name": "Python 3 (ipykernel)",
   "language": "python",
   "name": "python3"
  },
  "language_info": {
   "codemirror_mode": {
    "name": "ipython",
    "version": 3
   },
   "file_extension": ".py",
   "mimetype": "text/x-python",
   "name": "python",
   "nbconvert_exporter": "python",
   "pygments_lexer": "ipython3",
   "version": "3.11.5"
  }
 },
 "nbformat": 4,
 "nbformat_minor": 5
}
